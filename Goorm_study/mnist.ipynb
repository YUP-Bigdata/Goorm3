{
 "cells": [
  {
   "cell_type": "code",
   "execution_count": 1,
   "id": "80a00867-66ad-4061-b6a3-bbc485351f15",
   "metadata": {},
   "outputs": [],
   "source": [
    "import sys, os"
   ]
  },
  {
   "cell_type": "code",
   "execution_count": 2,
   "id": "b9c579d0-3f7b-4cd9-95e5-a121b666b1a0",
   "metadata": {},
   "outputs": [],
   "source": [
    "sys.path.append(os.pardir)"
   ]
  },
  {
   "cell_type": "code",
   "execution_count": 3,
   "id": "a23cd27c-a77e-4ac8-b17b-dbe718353b0e",
   "metadata": {},
   "outputs": [],
   "source": [
    "import numpy as np\n",
    "from dataset.mnist import load_mnist"
   ]
  },
  {
   "cell_type": "code",
   "execution_count": 4,
   "id": "400ff8b0-c2be-4108-8187-9cb1aa61b88e",
   "metadata": {},
   "outputs": [],
   "source": [
    "from PIL import Image"
   ]
  },
  {
   "cell_type": "code",
   "execution_count": 5,
   "id": "13a2fa75-26d9-47fa-99e5-e9ebde92a9f9",
   "metadata": {},
   "outputs": [],
   "source": [
    "def img_show(img):\n",
    "        pil_img = Image.fromarray(np.uint8(img))\n",
    "        pil_img.show()"
   ]
  },
  {
   "cell_type": "code",
   "execution_count": 6,
   "id": "d46c1f60-0727-4895-991e-6e76b46dc07c",
   "metadata": {},
   "outputs": [],
   "source": [
    "(x_train, t_train), (x_test,t_test) = load_mnist(flatten=True, normalize=False)"
   ]
  },
  {
   "cell_type": "code",
   "execution_count": 7,
   "id": "5f54eb90-8ca5-4e9d-b6a4-608d453b6b12",
   "metadata": {},
   "outputs": [
    {
     "name": "stdout",
     "output_type": "stream",
     "text": [
      "5\n"
     ]
    }
   ],
   "source": [
    "img = x_train[0]\n",
    "label = t_train[0]\n",
    "print(label)"
   ]
  },
  {
   "cell_type": "code",
   "execution_count": 8,
   "id": "1cea9df5-3005-43a0-b144-afb2c62a28fa",
   "metadata": {},
   "outputs": [
    {
     "name": "stdout",
     "output_type": "stream",
     "text": [
      "(784,)\n"
     ]
    }
   ],
   "source": [
    "print(img.shape)"
   ]
  },
  {
   "cell_type": "code",
   "execution_count": 9,
   "id": "6758c7b0-5102-4ab6-aacb-b4d27f11135b",
   "metadata": {},
   "outputs": [
    {
     "name": "stdout",
     "output_type": "stream",
     "text": [
      "<built-in method reshape of numpy.ndarray object at 0x000002BD2DFE46F0>\n"
     ]
    }
   ],
   "source": [
    "img = img.reshape(28,28)\n",
    "print(img.reshape)"
   ]
  },
  {
   "cell_type": "code",
   "execution_count": 10,
   "id": "045682cd-c5ad-44ea-a8c6-3a90e34b40bf",
   "metadata": {},
   "outputs": [],
   "source": [
    "img_show(img)"
   ]
  },
  {
   "cell_type": "code",
   "execution_count": 11,
   "id": "40363c50-cea2-4463-81ae-f9cc6151ad34",
   "metadata": {},
   "outputs": [],
   "source": [
    "def get_data():\n",
    "        (x_train, t_train), (x_test, t_test) = load_mnist(normalize=True, flatten=True, one_hot_label=False)\n",
    "        return x_test, t_test"
   ]
  },
  {
   "cell_type": "code",
   "execution_count": 12,
   "id": "1b4d6029-e102-4daf-9bc0-d8a6b9e4e024",
   "metadata": {},
   "outputs": [],
   "source": [
    "def init_network():\n",
    "        with open(\"sample_weight.pkl\", 'rb') as f:\n",
    "                network = pickle.load(f)\n",
    "        return network"
   ]
  },
  {
   "cell_type": "code",
   "execution_count": 13,
   "id": "1a5cd741-9053-4e96-8446-88361da62bbc",
   "metadata": {},
   "outputs": [],
   "source": [
    "def sigmoid(x):\n",
    "    return 1 / (1 + np.exp(-x))"
   ]
  },
  {
   "cell_type": "code",
   "execution_count": 14,
   "id": "d19fdec0-a1c7-4162-818b-0f65c66b414f",
   "metadata": {},
   "outputs": [],
   "source": [
    "def softmax(a):\n",
    "        c = np.max(a)\n",
    "        exp_a = np.exp(a-c)\n",
    "        sum_exp_a = np.sum(exp_a)\n",
    "        y = exp_a / sum_exp_a\n",
    "        \n",
    "        return y"
   ]
  },
  {
   "cell_type": "code",
   "execution_count": 19,
   "id": "469a0bbb-6935-45fa-85d8-f727ef646a2c",
   "metadata": {},
   "outputs": [],
   "source": [
    "def predict(network,x):\n",
    "        W1, W2, W3 = network['W1'], network['W2'], network['W3']\n",
    "        b1, b2, b3 = network['b1'], network['b2'], network['b3']\n",
    "        \n",
    "        a1 = np.dot(x,W1)+b1\n",
    "        z1 = sigmoid(a1)\n",
    "        a2 = np.dot(z1,W2)+b2\n",
    "        z2 = sigmoid(a2)\n",
    "        a3 = np.dot(z2,W3)+b3\n",
    "        y = softmax(a3)\n",
    "        \n",
    "        return y"
   ]
  },
  {
   "cell_type": "code",
   "execution_count": 20,
   "id": "be5009b3-5576-4ee3-8781-ca93e248551f",
   "metadata": {},
   "outputs": [],
   "source": [
    "import pickle"
   ]
  },
  {
   "cell_type": "code",
   "execution_count": 21,
   "id": "d15b1711-39fc-4a7b-a9d0-cdd72369b953",
   "metadata": {},
   "outputs": [],
   "source": [
    "x, t = get_data()\n",
    "network = init_network()"
   ]
  },
  {
   "cell_type": "code",
   "execution_count": 22,
   "id": "d6c57175-ba56-4f85-b06b-4532417b0a16",
   "metadata": {},
   "outputs": [
    {
     "name": "stdout",
     "output_type": "stream",
     "text": [
      "Accuracy:0.9352\n"
     ]
    }
   ],
   "source": [
    "accuracy_cnt = 0\n",
    "for i in range(len(x)):\n",
    "        y = predict(network, x[i])\n",
    "        p = np.argmax(y)\n",
    "        if p == t[i]:\n",
    "                accuracy_cnt += 1\n",
    "                \n",
    "print(\"Accuracy:\" + str(float(accuracy_cnt) / len(x)))"
   ]
  },
  {
   "cell_type": "code",
   "execution_count": null,
   "id": "b5456e7d-5ff3-4a0e-b835-dc6db6912ce0",
   "metadata": {},
   "outputs": [],
   "source": []
  }
 ],
 "metadata": {
  "kernelspec": {
   "display_name": "Python 3 (ipykernel)",
   "language": "python",
   "name": "python3"
  },
  "language_info": {
   "codemirror_mode": {
    "name": "ipython",
    "version": 3
   },
   "file_extension": ".py",
   "mimetype": "text/x-python",
   "name": "python",
   "nbconvert_exporter": "python",
   "pygments_lexer": "ipython3",
   "version": "3.9.7"
  }
 },
 "nbformat": 4,
 "nbformat_minor": 5
}
