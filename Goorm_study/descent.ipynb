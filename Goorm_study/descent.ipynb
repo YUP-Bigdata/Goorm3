{
 "cells": [
  {
   "cell_type": "code",
   "execution_count": 6,
   "id": "491cb871-b5cb-4f3d-b5de-50836f33ba3d",
   "metadata": {},
   "outputs": [],
   "source": [
    "import numpy as np"
   ]
  },
  {
   "cell_type": "code",
   "execution_count": 7,
   "id": "f4a29207-1398-480a-baf5-4bcdd25943d0",
   "metadata": {},
   "outputs": [],
   "source": [
    "def numerical_gradient(f,x):\n",
    "    h = 1e-4\n",
    "    grad = np.zeros_like(x)\n",
    "    \n",
    "    for idx in range(x.size):\n",
    "            tmp_val = x[idx]\n",
    "            x[idx] = tmp_val+h\n",
    "            fxh1 = f(x)\n",
    "            \n",
    "            x[idx] = tmp_val - h\n",
    "            fxh2 = f(x)\n",
    "                  \n",
    "            grad[idx] = (fxh1 - fxh2) / (2*h)\n",
    "            x[idx] = tmp_val\n",
    "    return grad"
   ]
  },
  {
   "cell_type": "code",
   "execution_count": 8,
   "id": "8c030d1f-3475-4889-a140-0159fb0aa426",
   "metadata": {},
   "outputs": [],
   "source": [
    "def gradient_descent(f, init_x, Ir=0.01, step_num=100):\n",
    "        x = init_x\n",
    "        \n",
    "        for i in range(step_num):\n",
    "                grad =numerical_gradient(f,x)\n",
    "                x -= Ir*grad\n",
    "        return x"
   ]
  },
  {
   "cell_type": "code",
   "execution_count": 9,
   "id": "4ef3756b-54a4-4415-975a-200a30bb8ac0",
   "metadata": {},
   "outputs": [],
   "source": [
    "def function_2(x):\n",
    "        return x[0]**2 + x[1]**2"
   ]
  },
  {
   "cell_type": "code",
   "execution_count": 10,
   "id": "5c49e941-9da0-4b4f-96ba-2b215f83800c",
   "metadata": {},
   "outputs": [],
   "source": [
    "init_x = np.array([-3.0, 4.0])"
   ]
  },
  {
   "cell_type": "code",
   "execution_count": 11,
   "id": "50d36fb2-a88f-4f72-a21f-7a51de60ae79",
   "metadata": {},
   "outputs": [
    {
     "data": {
      "text/plain": [
       "array([-6.11110793e-10,  8.14814391e-10])"
      ]
     },
     "execution_count": 11,
     "metadata": {},
     "output_type": "execute_result"
    }
   ],
   "source": [
    "gradient_descent(function_2, init_x = init_x, Ir=0.1, step_num = 100)"
   ]
  },
  {
   "cell_type": "code",
   "execution_count": null,
   "id": "d62b7785-f390-48e3-9cde-1a15c3ede4f5",
   "metadata": {},
   "outputs": [],
   "source": []
  }
 ],
 "metadata": {
  "kernelspec": {
   "display_name": "Python 3 (ipykernel)",
   "language": "python",
   "name": "python3"
  },
  "language_info": {
   "codemirror_mode": {
    "name": "ipython",
    "version": 3
   },
   "file_extension": ".py",
   "mimetype": "text/x-python",
   "name": "python",
   "nbconvert_exporter": "python",
   "pygments_lexer": "ipython3",
   "version": "3.9.7"
  }
 },
 "nbformat": 4,
 "nbformat_minor": 5
}
