{
 "cells": [
  {
   "cell_type": "code",
   "execution_count": 19,
   "id": "2b46327a-b01c-43e0-9efb-68504530257a",
   "metadata": {},
   "outputs": [],
   "source": [
    "#곱셈계층"
   ]
  },
  {
   "cell_type": "code",
   "execution_count": 4,
   "id": "95211388-3535-476c-90b8-648b04b920dc",
   "metadata": {},
   "outputs": [],
   "source": [
    "class MulLayer:\n",
    "    def __init__(self):\n",
    "            self.x = None\n",
    "            self.y = None\n",
    "            \n",
    "    def forward(self,x,y):\n",
    "            self.x = x\n",
    "            self.y = y\n",
    "            out = x*y\n",
    "            \n",
    "            return out\n",
    "        \n",
    "    def backward(self,dout):\n",
    "            dx = dout * self.y\n",
    "            dy = dout * self.x\n",
    "            \n",
    "            return dx,dy"
   ]
  },
  {
   "cell_type": "code",
   "execution_count": 15,
   "id": "4b466a87-9026-49ae-92f7-58186a4b17f4",
   "metadata": {},
   "outputs": [
    {
     "name": "stdout",
     "output_type": "stream",
     "text": [
      "220\n"
     ]
    }
   ],
   "source": [
    "apple = 100\n",
    "apple_num = 2\n",
    "tax = 1.1\n",
    "\n",
    "mul_apple_layer = MulLayer()\n",
    "mul_tax_layer = MulLayer()\n",
    "\n",
    "apple_price = mul_apple_layer.forward(apple, apple_num)\n",
    "price = mul_tax_layer.forward(apple_price, tax)\n",
    "\n",
    "print(int(price))"
   ]
  },
  {
   "cell_type": "code",
   "execution_count": 18,
   "id": "4cdd849c-5020-4606-9227-8f7a22a635eb",
   "metadata": {},
   "outputs": [
    {
     "name": "stdout",
     "output_type": "stream",
     "text": [
      "2.2 110 200\n"
     ]
    }
   ],
   "source": [
    "dprice = 1\n",
    "dapple_price, dtax = mul_tax_layer.backward(dprice)\n",
    "dapple, dapple_num = mul_apple_layer.backward(dapple_price)\n",
    "\n",
    "print(dapple, int(dapple_num), dtax)"
   ]
  },
  {
   "cell_type": "code",
   "execution_count": 20,
   "id": "b190932f-3363-4dea-a6ae-8bb7c2ac52a9",
   "metadata": {},
   "outputs": [],
   "source": [
    "#덧셈계층"
   ]
  },
  {
   "cell_type": "code",
   "execution_count": 21,
   "id": "4eb70008-6d81-4538-b1d2-03d6ada063a7",
   "metadata": {},
   "outputs": [],
   "source": [
    "class AddLayer:\n",
    "        def __init__(self):\n",
    "                pass\n",
    "        \n",
    "        def forward(self, x, y):\n",
    "                out = x+y\n",
    "                return out\n",
    "            \n",
    "        def backward(self, dout):\n",
    "                dx = dout * 1\n",
    "                dy = dout * 1\n",
    "                return dx, dy"
   ]
  },
  {
   "cell_type": "code",
   "execution_count": 22,
   "id": "7a035245-5822-420d-b5cd-9ee3638dcddd",
   "metadata": {},
   "outputs": [],
   "source": [
    "class Relu:\n",
    "        def __init__(self):\n",
    "                self.maks=None\n",
    "                \n",
    "        def forward(self, x):\n",
    "                self.mask = (x <= 0)\n",
    "                out = x.copy()\n",
    "                out[self.mask] = 0\n",
    "                \n",
    "                return out\n",
    "        \n",
    "        def backward(self,dout):\n",
    "                dout[self.mask] = 0\n",
    "                dx = dout\n",
    "                \n",
    "                return dx"
   ]
  },
  {
   "cell_type": "code",
   "execution_count": 23,
   "id": "e19e30a8-7385-4ae8-83e1-a325b8a8288d",
   "metadata": {},
   "outputs": [],
   "source": [
    "class Sigmoid:\n",
    "        def __init__(self):\n",
    "                self.out = None\n",
    "        \n",
    "        def forward(self, x):\n",
    "                out = 1 / (1 + np.exp(-x))\n",
    "                self.out = out\n",
    "                \n",
    "                return out\n",
    "            \n",
    "        def backward(self, dout):\n",
    "                dx = dout * (1.0 - self.out) * self.out\n",
    "                \n",
    "                return dx"
   ]
  },
  {
   "cell_type": "code",
   "execution_count": null,
   "id": "bf487cb1-622b-4781-985a-b72903cb03fc",
   "metadata": {},
   "outputs": [],
   "source": []
  }
 ],
 "metadata": {
  "kernelspec": {
   "display_name": "Python 3 (ipykernel)",
   "language": "python",
   "name": "python3"
  },
  "language_info": {
   "codemirror_mode": {
    "name": "ipython",
    "version": 3
   },
   "file_extension": ".py",
   "mimetype": "text/x-python",
   "name": "python",
   "nbconvert_exporter": "python",
   "pygments_lexer": "ipython3",
   "version": "3.9.7"
  }
 },
 "nbformat": 4,
 "nbformat_minor": 5
}
