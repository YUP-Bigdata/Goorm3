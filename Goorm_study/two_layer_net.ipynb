{
 "cells": [
  {
   "cell_type": "code",
   "execution_count": 2,
   "id": "4ff9ee34-ed22-4be2-979d-806f2a1e4443",
   "metadata": {},
   "outputs": [],
   "source": [
    "import sys, os\n",
    "sys.path.append(os.pardir)\n",
    "from common.functions import *\n",
    "from common.gradient import numerical_gradient\n",
    "from collections import OrderedDict"
   ]
  },
  {
   "cell_type": "code",
   "execution_count": 3,
   "id": "dd82c6bd-2c15-4a8b-ade3-7bea0e79b05d",
   "metadata": {},
   "outputs": [],
   "source": [
    "class TwoLayerNet:\n",
    "        def __init__(self, input_size, hidden_size, output_size,weight_init_std=0.01):\n",
    "            self.params = {}\n",
    "            self.params['W1'] = weight_init_std * np.random.randn(input_size, hidden_size)\n",
    "            self.params['b1'] = np.zeros(hidden_size)\n",
    "            self.params['W2'] = weight_init_std * np.random.randn(hidden_size, output_size)\n",
    "            self.params['b2'] = np.zeros(output_size)\n",
    "            \n",
    "            self.layers = OrderdDict()\n",
    "            self.layers['Affine1'] = Affine(self.params['W1'],self.params['b1'])\n",
    "            self.layers['Relu1'] = Relu()\n",
    "            self.layers['Affine2'] = Affine(self.parmas['W2'],self.params['b2'])\n",
    "            \n",
    "            self.lastLayer = SoftmaxWithLoss()\n",
    "            \n",
    "        def predict(self, x):\n",
    "            for layer in self.layers.values():\n",
    "                x = layer.forward(x)\n",
    "                \n",
    "            return x\n",
    "        \n",
    "        def loss(self,x,t):\n",
    "            y = self.predict(x)\n",
    "            return self.lastLayer.forward(y, t)\n",
    "            \n",
    "        def accuracy(self, x, t):\n",
    "            y = self.predict(x)\n",
    "            y = np.argmax(y, axis=1)\n",
    "            if t.ndim != 1 : t = np.argmax(t, axis=1)\n",
    "            \n",
    "            accuracy = np.sum(y==t) / float(x.shape[0])\n",
    "            return accuracy\n",
    "        \n",
    "        def numuerical_gradient(self, x, t):\n",
    "            loss_W = lambda W: self.loss(x,t)\n",
    "            \n",
    "            grads = {}\n",
    "            grads['W1'] = numerical_gradient(loss_W, self.params['W1'])\n",
    "            grads['b1'] = numerical_gradient(loss_W, self.params['b1'])\n",
    "            grads['W2'] = numerical_gradient(loss_W, self.params['W2'])\n",
    "            grads['b2'] = numerical_gradient(loss_W, self.params['b2'])\n",
    "            \n",
    "            return grads\n",
    "        \n",
    "        def gradients(self, x, t):\n",
    "            self.loss(x, t)\n",
    "            \n",
    "            dout = 1\n",
    "            dout = self.lastLayer.backwaed(dout)\n",
    "            \n",
    "            layers = list(self.layers.values())\n",
    "            layers.reverse()\n",
    "            for layer in Layers:\n",
    "                dout = layer.backward(dout)\n",
    "            \n",
    "            grads = {}\n",
    "            grads['W1'] = slef.Layers['Affine1'].dW\n",
    "            grads['b1'] = slef.Layers['Affine1'].db\n",
    "            grads['W2'] = slef.Layers['Affine2'].dW\n",
    "            grads['b2'] = slef.Layers['Affine2'].db\n",
    "            \n",
    "            return grads           "
   ]
  },
  {
   "cell_type": "code",
   "execution_count": null,
   "id": "f861dc0b-3b82-4bfd-b242-01c6287c5987",
   "metadata": {},
   "outputs": [],
   "source": []
  }
 ],
 "metadata": {
  "kernelspec": {
   "display_name": "Python 3 (ipykernel)",
   "language": "python",
   "name": "python3"
  },
  "language_info": {
   "codemirror_mode": {
    "name": "ipython",
    "version": 3
   },
   "file_extension": ".py",
   "mimetype": "text/x-python",
   "name": "python",
   "nbconvert_exporter": "python",
   "pygments_lexer": "ipython3",
   "version": "3.9.7"
  }
 },
 "nbformat": 4,
 "nbformat_minor": 5
}
