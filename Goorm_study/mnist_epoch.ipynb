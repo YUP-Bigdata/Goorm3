{
 "cells": [
  {
   "cell_type": "code",
   "execution_count": 1,
   "id": "af709aaa-fe9d-4be6-b46e-f7a4b1c38883",
   "metadata": {},
   "outputs": [],
   "source": [
    "import sys, os\n",
    "sys.path.append(os.pardir)\n",
    "from common.functions import *\n",
    "from common.gradient import numerical_gradient"
   ]
  },
  {
   "cell_type": "code",
   "execution_count": 2,
   "id": "2489d6c3-89ba-49a6-8bf1-f8537bfa25f6",
   "metadata": {
    "tags": []
   },
   "outputs": [],
   "source": [
    "class TwoLayerNet:\n",
    "        def __init__(self, input_size, hidden_size, output_size,\n",
    "                     weight_init_std=0.01):\n",
    "            \n",
    "            self.params = {}\n",
    "            self.params['W1'] = weight_init_std * np.random.randn(input_size, hidden_size)\n",
    "            self.params['b1'] = np.zeros(hidden_size)\n",
    "            self.params['W2'] = weight_init_std * np.random.randn(hidden_size, output_size)\n",
    "            self.params['b2'] = np.zeros(output_size)\n",
    "            \n",
    "        def predict(self, x):\n",
    "            W1, W2 = self.params['W1'], self.params['W2']\n",
    "            b1, b2 = self.params['b1'], self.params['b2']\n",
    "            \n",
    "            a1 = np.dot(x,W1) +b1\n",
    "            z1 = sigmoid(a1)\n",
    "            a2 = np.dot(z1,W2) +b2\n",
    "            y = softmax(a2)\n",
    "            \n",
    "            return y\n",
    "            \n",
    "        def loss(self,x,t):\n",
    "            y = self.predict(x)\n",
    "            \n",
    "            return cross_entropy_error(y, t)\n",
    "            \n",
    "        def accuracy(self, x, t):\n",
    "            y = self.predict(x)\n",
    "            y = np.argmax(y, axis=1)\n",
    "            t = np.argmax(t, axis=1)\n",
    "            \n",
    "            accuracy = np.sum(y==t) / float(x.shape[0])\n",
    "            return accuracy\n",
    "        \n",
    "        def numerical_gradient(self, x, t):\n",
    "            loss_W = lambda W: self.loss(x,t)\n",
    "            \n",
    "            grads = {}\n",
    "            grads['W1'] = numerical_gradient(loss_W, self.params['W1'])\n",
    "            grads['b1'] = numerical_gradient(loss_W, self.params['b1'])\n",
    "            grads['W2'] = numerical_gradient(loss_W, self.params['W2'])\n",
    "            grads['b2'] = numerical_gradient(loss_W, self.params['b2'])\n",
    "            \n",
    "            return grads"
   ]
  },
  {
   "cell_type": "code",
   "execution_count": 3,
   "id": "080c9431-6ed6-44c7-af44-4b3bb001be61",
   "metadata": {},
   "outputs": [],
   "source": [
    "import numpy as np\n",
    "from dataset.mnist import load_mnist"
   ]
  },
  {
   "cell_type": "code",
   "execution_count": 4,
   "id": "09ddc026-b2a5-4b0e-b4b2-be83d8ef1463",
   "metadata": {},
   "outputs": [],
   "source": [
    "(x_train, t_train), (x_test, t_test) = load_mnist(normalize = True, one_hot_label=True)"
   ]
  },
  {
   "cell_type": "code",
   "execution_count": 5,
   "id": "3f7eb56e-81cd-47d2-84f4-54ab3bdf9520",
   "metadata": {},
   "outputs": [],
   "source": [
    "network = TwoLayerNet(input_size = 784, hidden_size = 100, output_size = 10)"
   ]
  },
  {
   "cell_type": "code",
   "execution_count": 6,
   "id": "48f673c5-8822-4e0b-8db5-d3ffc6bec1a6",
   "metadata": {},
   "outputs": [],
   "source": [
    "iters_num = 10000\n",
    "train_size = x_train.shape[0]\n",
    "batch_size = 100\n",
    "learning_rate = 0.1\n",
    "\n",
    "train_loss_list=[]\n",
    "train_acc_list=[]\n",
    "test_acc_list=[]"
   ]
  },
  {
   "cell_type": "code",
   "execution_count": 7,
   "id": "d5660f03-ffce-4df6-b457-64e18dc80ef7",
   "metadata": {},
   "outputs": [],
   "source": [
    "iter_per_epoch = max(train_size/batch_size,1)"
   ]
  },
  {
   "cell_type": "code",
   "execution_count": 8,
   "id": "dd813b07-b9a1-44d5-be89-ad895194b08c",
   "metadata": {},
   "outputs": [],
   "source": [
    "for i in range(iters_num):\n",
    "    batch_mask = np.random.choice(train_size, batch_size)\n",
    "    x_batch = x_train[batch_mask]\n",
    "    t_batch = t_train[batch_mask]"
   ]
  },
  {
   "cell_type": "code",
   "execution_count": 9,
   "id": "f38dcbcd-a90a-4190-8bf8-490ab9a46185",
   "metadata": {},
   "outputs": [],
   "source": [
    "grad = network.numerical_gradient(x_batch, t_batch)"
   ]
  },
  {
   "cell_type": "code",
   "execution_count": 10,
   "id": "8eaf58c8-d09e-4195-a469-6ce135e71090",
   "metadata": {},
   "outputs": [],
   "source": [
    "for key in ('W1','b1','W2','b2'):\n",
    "    network.params[key] -= learning_rate * grad[key]"
   ]
  },
  {
   "cell_type": "code",
   "execution_count": 11,
   "id": "0b3abec6-e271-4811-a160-a996d5f8bb22",
   "metadata": {},
   "outputs": [],
   "source": [
    "loss = network.loss(x_batch,t_batch)\n",
    "train_loss_list.append(loss)"
   ]
  },
  {
   "cell_type": "code",
   "execution_count": 12,
   "id": "0fb08aa3-1fdc-434a-8f13-2d65fd397710",
   "metadata": {},
   "outputs": [],
   "source": [
    "if i%iter_per_epoch == 0:\n",
    "    train_acc = network.accuracy(x_train, t_train)\n",
    "    test_acc = network.accuracy(x_test, t_test)\n",
    "    train_acc_list.append(train_acc)\n",
    "    test_acc_list.append(test_acc)\n",
    "    print(\"train acc, test acc |\"+str(train_acc)+\", \"+str(test_acc))"
   ]
  },
  {
   "cell_type": "code",
   "execution_count": null,
   "id": "96d9f34d-5c0d-4bb6-9eaf-65dacf17ce8c",
   "metadata": {},
   "outputs": [],
   "source": []
  }
 ],
 "metadata": {
  "kernelspec": {
   "display_name": "Python 3 (ipykernel)",
   "language": "python",
   "name": "python3"
  },
  "language_info": {
   "codemirror_mode": {
    "name": "ipython",
    "version": 3
   },
   "file_extension": ".py",
   "mimetype": "text/x-python",
   "name": "python",
   "nbconvert_exporter": "python",
   "pygments_lexer": "ipython3",
   "version": "3.9.7"
  }
 },
 "nbformat": 4,
 "nbformat_minor": 5
}
